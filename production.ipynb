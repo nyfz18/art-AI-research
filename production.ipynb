{
 "cells": [
  {
   "cell_type": "code",
   "execution_count": null,
   "id": "968ec026-65b5-48da-bc7b-6f477ab5d54d",
   "metadata": {},
   "outputs": [],
   "source": [
    "%pip install fastbook\n",
    "%pip install google-cloud-vision"
   ]
  },
  {
   "cell_type": "code",
   "execution_count": 1,
   "id": "4db7b5e6-fb0c-474e-936a-ee989c7f83b8",
   "metadata": {},
   "outputs": [],
   "source": [
    "#hide\n",
    "! [ -e /content ] && pip install -Uqq fastbook\n",
    "import fastbook\n",
    "fastbook.setup_book()"
   ]
  },
  {
   "cell_type": "code",
   "execution_count": 2,
   "id": "ab38f552-6750-4c51-a059-f447176a7838",
   "metadata": {},
   "outputs": [],
   "source": [
    "#hide\n",
    "from fastbook import *\n",
    "from fastai.vision.widgets import *"
   ]
  },
  {
   "cell_type": "code",
   "execution_count": null,
   "id": "1e6734aa-27ce-4f75-a66d-de3458ca4c02",
   "metadata": {},
   "outputs": [],
   "source": [
    "import os\n",
    "\n",
    "GOOGLE_VISION_API_KEY = os.environ.get('GOOGLE_VISION_API_KEY')\n",
    "# API key is required for Google Vision API"
   ]
  },
  {
   "cell_type": "code",
   "execution_count": 12,
   "id": "261a9e47",
   "metadata": {},
   "outputs": [],
   "source": [
    "from google.cloud import vision\n",
    "import io\n",
    "\n",
    "def analyze_image_labels(image_path):\n",
    "    client = vision.ImageAnnotatorClient()\n",
    "\n",
    "    with io.open(image_path, 'rb') as image_file:\n",
    "        content = image_file.read()\n",
    "\n",
    "    image = vision.Image(content=content)\n",
    "    response = client.label_detection(image=image)\n",
    "    labels = response.label_annotations\n",
    "\n",
    "    return [(label.description, label.score) for label in labels]"
   ]
  },
  {
   "cell_type": "code",
   "execution_count": null,
   "id": "091dccef",
   "metadata": {},
   "outputs": [
    {
     "name": "stdout",
     "output_type": "stream",
     "text": [
      "True\n"
     ]
    }
   ],
   "source": [
    "import os\n",
    "#need to set GOOGLE_APPLICATION_CREDENTIALS environment variable"
   ]
  },
  {
   "cell_type": "code",
   "execution_count": null,
   "id": "1813b565",
   "metadata": {},
   "outputs": [
    {
     "name": "stdout",
     "output_type": "stream",
     "text": [
      "Art: 0.9259561896324158 (92.6% confidence)\n",
      "Art Paint: 0.9052952527999878 (90.5% confidence)\n",
      "Visual arts: 0.89967280626297 (90.0% confidence)\n",
      "Paint: 0.8579937815666199 (85.8% confidence)\n",
      "Painting: 0.8417203426361084 (84.2% confidence)\n",
      "Modern art: 0.8269838094711304 (82.7% confidence)\n",
      "Watercolor painting: 0.8121630549430847 (81.2% confidence)\n",
      "Acrylic paint: 0.7232494950294495 (72.3% confidence)\n",
      "Creative arts: 0.6875463724136353 (68.8% confidence)\n",
      "Graphics: 0.5800747275352478 (58.0% confidence)\n"
     ]
    }
   ],
   "source": [
    "labels = analyze_image_labels('uploads/starry_night.jpg') \n",
    "for description, score in labels:\n",
    "    percent_confidence = score * 100\n",
    "    print(f\"{description}: {score} ({percent_confidence:.1f}% confidence)\")\n"
   ]
  },
  {
   "cell_type": "code",
   "execution_count": null,
   "id": "5adf1afd",
   "metadata": {},
   "outputs": [],
   "source": []
  }
 ],
 "metadata": {
  "kernelspec": {
   "display_name": "myenv",
   "language": "python",
   "name": "python3"
  },
  "language_info": {
   "codemirror_mode": {
    "name": "ipython",
    "version": 3
   },
   "file_extension": ".py",
   "mimetype": "text/x-python",
   "name": "python",
   "nbconvert_exporter": "python",
   "pygments_lexer": "ipython3",
   "version": "3.11.13"
  }
 },
 "nbformat": 4,
 "nbformat_minor": 5
}
